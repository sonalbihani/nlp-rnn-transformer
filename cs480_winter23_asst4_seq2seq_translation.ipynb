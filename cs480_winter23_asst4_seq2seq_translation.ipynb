{
  "cells": [
    {
      "cell_type": "markdown",
      "metadata": {
        "id": "51EzNwpqoy7q"
      },
      "source": [
        "Download data"
      ]
    },
    {
      "cell_type": "code",
      "execution_count": 1,
      "metadata": {
        "colab": {
          "base_uri": "https://localhost:8080/"
        },
        "id": "qwhxBOK4oxLT",
        "outputId": "a3aa6fab-f9f3-4edf-af3b-2aceb380cb8e"
      },
      "outputs": [
        {
          "output_type": "stream",
          "name": "stdout",
          "text": [
            "--2023-03-18 19:16:44--  https://download.pytorch.org/tutorial/data.zip\n",
            "Resolving download.pytorch.org (download.pytorch.org)... 13.249.85.7, 13.249.85.10, 13.249.85.72, ...\n",
            "Connecting to download.pytorch.org (download.pytorch.org)|13.249.85.7|:443... connected.\n",
            "HTTP request sent, awaiting response... 200 OK\n",
            "Length: 2882130 (2.7M) [application/zip]\n",
            "Saving to: ‘data.zip’\n",
            "\n",
            "\rdata.zip              0%[                    ]       0  --.-KB/s               \rdata.zip            100%[===================>]   2.75M  --.-KB/s    in 0.07s   \n",
            "\n",
            "2023-03-18 19:16:44 (39.0 MB/s) - ‘data.zip’ saved [2882130/2882130]\n",
            "\n",
            "Archive:  data.zip\n",
            "   creating: data/\n",
            "  inflating: data/eng-fra.txt        \n",
            "   creating: data/names/\n",
            "  inflating: data/names/Arabic.txt   \n",
            "  inflating: data/names/Chinese.txt  \n",
            "  inflating: data/names/Czech.txt    \n",
            "  inflating: data/names/Dutch.txt    \n",
            "  inflating: data/names/English.txt  \n",
            "  inflating: data/names/French.txt   \n",
            "  inflating: data/names/German.txt   \n",
            "  inflating: data/names/Greek.txt    \n",
            "  inflating: data/names/Irish.txt    \n",
            "  inflating: data/names/Italian.txt  \n",
            "  inflating: data/names/Japanese.txt  \n",
            "  inflating: data/names/Korean.txt   \n",
            "  inflating: data/names/Polish.txt   \n",
            "  inflating: data/names/Portuguese.txt  \n",
            "  inflating: data/names/Russian.txt  \n",
            "  inflating: data/names/Scottish.txt  \n",
            "  inflating: data/names/Spanish.txt  \n",
            "  inflating: data/names/Vietnamese.txt  \n",
            "data  data.zip\tsample_data\n"
          ]
        }
      ],
      "source": [
        "!wget https://download.pytorch.org/tutorial/data.zip\n",
        "!unzip data.zip\n",
        "!ls"
      ]
    },
    {
      "cell_type": "code",
      "execution_count": 2,
      "metadata": {
        "id": "C6h4gfwihDMT"
      },
      "outputs": [],
      "source": [
        "%matplotlib inline"
      ]
    },
    {
      "cell_type": "markdown",
      "metadata": {
        "id": "L1_lRJeEhDMX"
      },
      "source": [
        "\n",
        "Translation with a Sequence to Sequence Network and Attention\n",
        "*************************************************************\n",
        "**Author**: `Sean Robertson <https://github.com/spro/practical-pytorch>`_\n",
        "\n",
        "In this project we will be teaching a neural network to translate from\n",
        "French to English.\n",
        "\n",
        "::\n",
        "\n",
        "    [KEY: > input, = target, < output]\n",
        "\n",
        "    > il est en train de peindre un tableau .\n",
        "    = he is painting a picture .\n",
        "    < he is painting a picture .\n",
        "\n",
        "    > pourquoi ne pas essayer ce vin delicieux ?\n",
        "    = why not try that delicious wine ?\n",
        "    < why not try that delicious wine ?\n",
        "\n",
        "    > elle n est pas poete mais romanciere .\n",
        "    = she is not a poet but a novelist .\n",
        "    < she not not a poet but a novelist .\n",
        "\n",
        "    > vous etes trop maigre .\n",
        "    = you re too skinny .\n",
        "    < you re all alone .\n",
        "\n",
        "... to varying degrees of success.\n",
        "\n",
        "This is made possible by the simple but powerful idea of the `sequence\n",
        "to sequence network <http://arxiv.org/abs/1409.3215>`__, in which two\n",
        "recurrent neural networks work together to transform one sequence to\n",
        "another. An encoder network condenses an input sequence into a vector,\n",
        "and a decoder network unfolds that vector into a new sequence.\n",
        "\n",
        ".. figure:: /_static/img/seq-seq-images/seq2seq.png\n",
        "   :alt:\n",
        "\n",
        "To improve upon this model we'll use an `attention\n",
        "mechanism <https://arxiv.org/abs/1409.0473>`__, which lets the decoder\n",
        "learn to focus over a specific range of the input sequence.\n",
        "\n",
        "**Recommended Reading:**\n",
        "\n",
        "I assume you have at least installed PyTorch, know Python, and\n",
        "understand Tensors:\n",
        "\n",
        "-  http://pytorch.org/ For installation instructions\n",
        "-  :doc:`/beginner/deep_learning_60min_blitz` to get started with PyTorch in general\n",
        "-  :doc:`/beginner/pytorch_with_examples` for a wide and deep overview\n",
        "-  :doc:`/beginner/former_torchies_tutorial` if you are former Lua Torch user\n",
        "\n",
        "\n",
        "It would also be useful to know about Sequence to Sequence networks and\n",
        "how they work:\n",
        "\n",
        "-  `Learning Phrase Representations using RNN Encoder-Decoder for\n",
        "   Statistical Machine Translation <http://arxiv.org/abs/1406.1078>`__\n",
        "-  `Sequence to Sequence Learning with Neural\n",
        "   Networks <http://arxiv.org/abs/1409.3215>`__\n",
        "-  `Neural Machine Translation by Jointly Learning to Align and\n",
        "   Translate <https://arxiv.org/abs/1409.0473>`__\n",
        "-  `A Neural Conversational Model <http://arxiv.org/abs/1506.05869>`__\n",
        "\n",
        "You will also find the previous tutorials on\n",
        ":doc:`/intermediate/char_rnn_classification_tutorial`\n",
        "and :doc:`/intermediate/char_rnn_generation_tutorial`\n",
        "helpful as those concepts are very similar to the Encoder and Decoder\n",
        "models, respectively.\n",
        "\n",
        "And for more, read the papers that introduced these topics:\n",
        "\n",
        "-  `Learning Phrase Representations using RNN Encoder-Decoder for\n",
        "   Statistical Machine Translation <http://arxiv.org/abs/1406.1078>`__\n",
        "-  `Sequence to Sequence Learning with Neural\n",
        "   Networks <http://arxiv.org/abs/1409.3215>`__\n",
        "-  `Neural Machine Translation by Jointly Learning to Align and\n",
        "   Translate <https://arxiv.org/abs/1409.0473>`__\n",
        "-  `A Neural Conversational Model <http://arxiv.org/abs/1506.05869>`__\n",
        "\n",
        "\n",
        "**Requirements**\n",
        "\n"
      ]
    },
    {
      "cell_type": "code",
      "execution_count": 3,
      "metadata": {
        "id": "7MN0c-pLhDMY"
      },
      "outputs": [],
      "source": [
        "from __future__ import unicode_literals, print_function, division\n",
        "from io import open\n",
        "import unicodedata\n",
        "import string\n",
        "import re\n",
        "import random\n",
        "import math\n",
        "\n",
        "import torch\n",
        "import torch.nn as nn\n",
        "from torch import optim\n",
        "import torch.nn.functional as F\n",
        "\n",
        "device = torch.device(\"cuda\" if torch.cuda.is_available() else \"cpu\")"
      ]
    },
    {
      "cell_type": "markdown",
      "metadata": {
        "id": "4r2Odx-fhDMb"
      },
      "source": [
        "Loading data files\n",
        "==================\n",
        "\n",
        "The data for this project is a set of many thousands of English to\n",
        "French translation pairs.\n",
        "\n",
        "`This question on Open Data Stack\n",
        "Exchange <http://opendata.stackexchange.com/questions/3888/dataset-of-sentences-translated-into-many-languages>`__\n",
        "pointed me to the open translation site http://tatoeba.org/ which has\n",
        "downloads available at http://tatoeba.org/eng/downloads - and better\n",
        "yet, someone did the extra work of splitting language pairs into\n",
        "individual text files here: http://www.manythings.org/anki/\n",
        "\n",
        "The English to French pairs are too big to include in the repo, so\n",
        "download to ``data/eng-fra.txt`` before continuing. The file is a tab\n",
        "separated list of translation pairs:\n",
        "\n",
        "::\n",
        "\n",
        "    I am cold.    J'ai froid.\n",
        "\n",
        ".. Note::\n",
        "   Download the data from\n",
        "   `here <https://download.pytorch.org/tutorial/data.zip>`_\n",
        "   and extract it to the current directory.\n",
        "\n"
      ]
    },
    {
      "cell_type": "markdown",
      "metadata": {
        "id": "uvjN-f1ThDMb"
      },
      "source": [
        "Similar to the character encoding used in the character-level RNN\n",
        "tutorials, we will be representing each word in a language as a one-hot\n",
        "vector, or giant vector of zeros except for a single one (at the index\n",
        "of the word). Compared to the dozens of characters that might exist in a\n",
        "language, there are many many more words, so the encoding vector is much\n",
        "larger. We will however cheat a bit and trim the data to only use a few\n",
        "thousand words per language.\n",
        "\n",
        ".. figure:: /_static/img/seq-seq-images/word-encoding.png\n",
        "   :alt:\n",
        "\n",
        "\n",
        "\n"
      ]
    },
    {
      "cell_type": "markdown",
      "metadata": {
        "id": "yw8E1RlnhDMc"
      },
      "source": [
        "We'll need a unique index per word to use as the inputs and targets of\n",
        "the networks later. To keep track of all this we will use a helper class\n",
        "called ``Lang`` which has word → index (``word2index``) and index → word\n",
        "(``index2word``) dictionaries, as well as a count of each word\n",
        "``word2count`` to use to later replace rare words.\n",
        "\n",
        "\n"
      ]
    },
    {
      "cell_type": "code",
      "execution_count": 4,
      "metadata": {
        "id": "-DKtR_tRhDMd"
      },
      "outputs": [],
      "source": [
        "SOS_token = 0\n",
        "EOS_token = 1\n",
        "\n",
        "\n",
        "class Lang:\n",
        "    def __init__(self, name):\n",
        "        self.name = name\n",
        "        self.word2index = {}\n",
        "        self.word2count = {}\n",
        "        self.index2word = {0: \"SOS\", 1: \"EOS\"}\n",
        "        self.n_words = 2  # Count SOS and EOS\n",
        "\n",
        "    def addSentence(self, sentence):\n",
        "        for word in sentence.split(' '):\n",
        "            self.addWord(word)\n",
        "\n",
        "    def addWord(self, word):\n",
        "        if word not in self.word2index:\n",
        "            self.word2index[word] = self.n_words\n",
        "            self.word2count[word] = 1\n",
        "            self.index2word[self.n_words] = word\n",
        "            self.n_words += 1\n",
        "        else:\n",
        "            self.word2count[word] += 1"
      ]
    },
    {
      "cell_type": "markdown",
      "metadata": {
        "id": "v2xag2jjhDMf"
      },
      "source": [
        "The files are all in Unicode, to simplify we will turn Unicode\n",
        "characters to ASCII, make everything lowercase, and trim most\n",
        "punctuation.\n",
        "\n",
        "\n"
      ]
    },
    {
      "cell_type": "code",
      "execution_count": 5,
      "metadata": {
        "id": "43G0EWaBhDMf"
      },
      "outputs": [],
      "source": [
        "# Turn a Unicode string to plain ASCII, thanks to\n",
        "# http://stackoverflow.com/a/518232/2809427\n",
        "def unicodeToAscii(s):\n",
        "    return ''.join(\n",
        "        c for c in unicodedata.normalize('NFD', s)\n",
        "        if unicodedata.category(c) != 'Mn'\n",
        "    )\n",
        "\n",
        "# Lowercase, trim, and remove non-letter characters\n",
        "\n",
        "\n",
        "def normalizeString(s):\n",
        "    s = unicodeToAscii(s.lower().strip())\n",
        "    s = re.sub(r\"([.!?])\", r\" \\1\", s)\n",
        "    s = re.sub(r\"[^a-zA-Z.!?]+\", r\" \", s)\n",
        "    return s"
      ]
    },
    {
      "cell_type": "markdown",
      "metadata": {
        "id": "XozJcgJwhDMh"
      },
      "source": [
        "To read the data file we will split the file into lines, and then split\n",
        "lines into pairs. The files are all English → Other Language, so if we\n",
        "want to translate from Other Language → English I added the ``reverse``\n",
        "flag to reverse the pairs.\n",
        "\n",
        "\n"
      ]
    },
    {
      "cell_type": "code",
      "execution_count": 6,
      "metadata": {
        "id": "G8eDk834hDMi"
      },
      "outputs": [],
      "source": [
        "def readLangs(lang1, lang2, reverse=False):\n",
        "    print(\"Reading lines...\")\n",
        "\n",
        "    # Read the file and split into lines\n",
        "    lines = open('data/%s-%s.txt' % (lang1, lang2), encoding='utf-8').\\\n",
        "        read().strip().split('\\n')\n",
        "\n",
        "    # Split every line into pairs and normalize\n",
        "    pairs = [[normalizeString(s) for s in l.split('\\t')] for l in lines]\n",
        "\n",
        "    # Reverse pairs, make Lang instances\n",
        "    if reverse:\n",
        "        pairs = [list(reversed(p)) for p in pairs]\n",
        "        input_lang = Lang(lang2)\n",
        "        output_lang = Lang(lang1)\n",
        "    else:\n",
        "        input_lang = Lang(lang1)\n",
        "        output_lang = Lang(lang2)\n",
        "\n",
        "    return input_lang, output_lang, pairs"
      ]
    },
    {
      "cell_type": "markdown",
      "metadata": {
        "id": "hLaV8dQGhDMk"
      },
      "source": [
        "Since there are a *lot* of example sentences and we want to train\n",
        "something quickly, we'll trim the data set to only relatively short and\n",
        "simple sentences. Here the maximum length is 5 words (that includes\n",
        "ending punctuation) and we're filtering to sentences that translate to\n",
        "the form \"I am\" or \"He is\" etc. (accounting for apostrophes replaced\n",
        "earlier).\n",
        "\n",
        "\n"
      ]
    },
    {
      "cell_type": "code",
      "execution_count": 7,
      "metadata": {
        "id": "7--Q6nG9hDMl"
      },
      "outputs": [],
      "source": [
        "MAX_LENGTH = 5\n",
        "\n",
        "eng_prefixes = (\n",
        "    \"i am \", \"i m \",\n",
        "    \"he is\", \"he s \",\n",
        "    \"she is\", \"she s\",\n",
        "    \"you are\", \"you re \",\n",
        "    \"we are\", \"we re \",\n",
        "    \"they are\", \"they re \"\n",
        ")\n",
        "\n",
        "\n",
        "def filterPair(p, max_length = MAX_LENGTH):\n",
        "    return len(p[0].split(' ')) < max_length and \\\n",
        "        len(p[1].split(' ')) < max_length and \\\n",
        "        p[1].startswith(eng_prefixes)\n",
        "\n",
        "\n",
        "def filterPairs(pairs, max_length=MAX_LENGTH):\n",
        "    return [pair for pair in pairs if filterPair(pair,max_length)]"
      ]
    },
    {
      "cell_type": "markdown",
      "metadata": {
        "id": "99B4-TpShDMn"
      },
      "source": [
        "The full process for preparing the data is:\n",
        "\n",
        "-  Read text file and split into lines, split lines into pairs\n",
        "-  Normalize text, filter by length and content\n",
        "-  Make word lists from sentences in pairs\n",
        "\n",
        "\n"
      ]
    },
    {
      "cell_type": "code",
      "execution_count": 8,
      "metadata": {
        "colab": {
          "base_uri": "https://localhost:8080/"
        },
        "id": "QT8_6RLphDMn",
        "outputId": "2e5d1f56-45bc-494e-b612-43c3ecf8c1f9"
      },
      "outputs": [
        {
          "output_type": "stream",
          "name": "stdout",
          "text": [
            "5\n",
            "Reading lines...\n",
            "Read 135842 sentence pairs\n",
            "Trimmed to 1404 sentence pairs\n",
            "Counting words...\n",
            "Counted words:\n",
            "fra 940\n",
            "eng 466\n",
            "['vous etes extravertie .', 'you re extroverted .']\n"
          ]
        }
      ],
      "source": [
        "def prepareData(lang1, lang2, reverse=False,max_length=MAX_LENGTH):\n",
        "    print(max_length)\n",
        "    input_lang, output_lang, pairs = readLangs(lang1, lang2, reverse)\n",
        "    print(\"Read %s sentence pairs\" % len(pairs))\n",
        "    pairs = filterPairs(pairs, max_length)\n",
        "    print(\"Trimmed to %s sentence pairs\" % len(pairs))\n",
        "    print(\"Counting words...\")\n",
        "    for pair in pairs:\n",
        "        input_lang.addSentence(pair[0])\n",
        "        output_lang.addSentence(pair[1])\n",
        "    print(\"Counted words:\")\n",
        "    print(input_lang.name, input_lang.n_words)\n",
        "    print(output_lang.name, output_lang.n_words)\n",
        "    return input_lang, output_lang, pairs\n",
        "\n",
        "\n",
        "input_lang, output_lang, pairs = prepareData('eng', 'fra', True, max_length=MAX_LENGTH)\n",
        "random.shuffle(pairs)\n",
        "train_data = pairs[0:int(math.floor(0.8*len(pairs)))]\n",
        "validation_data = pairs[int(math.floor(0.8*len(pairs)))+1:int(math.floor(0.9*len(pairs)))]\n",
        "test_data = pairs[int(math.floor(0.9*len(pairs)))+1:]\n",
        "\n",
        "print(random.choice(pairs))"
      ]
    },
    {
      "cell_type": "markdown",
      "metadata": {
        "id": "r-xx4c_ShDMt"
      },
      "source": [
        "The Seq2Seq Model\n",
        "=================\n",
        "\n",
        "A Recurrent Neural Network, or RNN, is a network that operates on a\n",
        "sequence and uses its own output as input for subsequent steps.\n",
        "\n",
        "A `Sequence to Sequence network <http://arxiv.org/abs/1409.3215>`__, or\n",
        "seq2seq network, or `Encoder Decoder\n",
        "network <https://arxiv.org/pdf/1406.1078v3.pdf>`__, is a model\n",
        "consisting of two RNNs called the encoder and decoder. The encoder reads\n",
        "an input sequence and outputs a single vector, and the decoder reads\n",
        "that vector to produce an output sequence.\n",
        "\n",
        ".. figure:: /_static/img/seq-seq-images/seq2seq.png\n",
        "   :alt:\n",
        "\n",
        "Unlike sequence prediction with a single RNN, where every input\n",
        "corresponds to an output, the seq2seq model frees us from sequence\n",
        "length and order, which makes it ideal for translation between two\n",
        "languages.\n",
        "\n",
        "Consider the sentence \"Je ne suis pas le chat noir\" → \"I am not the\n",
        "black cat\". Most of the words in the input sentence have a direct\n",
        "translation in the output sentence, but are in slightly different\n",
        "orders, e.g. \"chat noir\" and \"black cat\". Because of the \"ne/pas\"\n",
        "construction there is also one more word in the input sentence. It would\n",
        "be difficult to produce a correct translation directly from the sequence\n",
        "of input words.\n",
        "\n",
        "With a seq2seq model the encoder creates a single vector which, in the\n",
        "ideal case, encodes the \"meaning\" of the input sequence into a single\n",
        "vector — a single point in some N dimensional space of sentences.\n",
        "\n",
        "\n"
      ]
    },
    {
      "cell_type": "markdown",
      "metadata": {
        "id": "4lTkjhaohDMu"
      },
      "source": [
        "The Encoder\n",
        "-----------\n",
        "\n",
        "The encoder of a seq2seq network is a RNN that outputs some value for\n",
        "every word from the input sentence. For every input word the encoder\n",
        "outputs a vector and a hidden state, and uses the hidden state for the\n",
        "next input word.\n",
        "\n",
        ".. figure:: /_static/img/seq-seq-images/encoder-network.png\n",
        "   :alt:\n",
        "\n",
        "\n",
        "\n"
      ]
    },
    {
      "cell_type": "code",
      "execution_count": 9,
      "metadata": {
        "id": "o44Q1c3ohDMv"
      },
      "outputs": [],
      "source": [
        "class EncoderRNN(nn.Module):\n",
        "    def __init__(self, input_size, hidden_size):\n",
        "        super(EncoderRNN, self).__init__()\n",
        "        self.hidden_size = hidden_size\n",
        "\n",
        "        self.embedding = nn.Embedding(input_size, hidden_size)\n",
        "        self.gru = nn.GRU(hidden_size, hidden_size)\n",
        "\n",
        "    def forward(self, input, hidden):\n",
        "        embedded = self.embedding(input).view(1, 1, -1)\n",
        "        output = embedded\n",
        "        output, hidden = self.gru(output, hidden)\n",
        "        return output, hidden\n",
        "\n",
        "    def initHidden(self):\n",
        "        return torch.zeros(1, 1, self.hidden_size, device=device)"
      ]
    },
    {
      "cell_type": "markdown",
      "metadata": {
        "id": "oCaHW2x6hDMx"
      },
      "source": [
        "The Decoder\n",
        "-----------\n",
        "\n",
        "The decoder is another RNN that takes the encoder output vector(s) and\n",
        "outputs a sequence of words to create the translation.\n",
        "\n",
        "\n"
      ]
    },
    {
      "cell_type": "markdown",
      "metadata": {
        "id": "S4XKbKGehDMy"
      },
      "source": [
        "Simple Decoder\n",
        "^^^^^^^^^^^^^^\n",
        "\n",
        "In the simplest seq2seq decoder we use only last output of the encoder.\n",
        "This last output is sometimes called the *context vector* as it encodes\n",
        "context from the entire sequence. This context vector is used as the\n",
        "initial hidden state of the decoder.\n",
        "\n",
        "At every step of decoding, the decoder is given an input token and\n",
        "hidden state. The initial input token is the start-of-string ``<SOS>``\n",
        "token, and the first hidden state is the context vector (the encoder's\n",
        "last hidden state).\n",
        "\n",
        ".. figure:: /_static/img/seq-seq-images/decoder-network.png\n",
        "   :alt:\n",
        "\n",
        "\n",
        "\n"
      ]
    },
    {
      "cell_type": "code",
      "execution_count": 10,
      "metadata": {
        "id": "ldlVOYhchDMy"
      },
      "outputs": [],
      "source": [
        "class DecoderRNN(nn.Module):\n",
        "    def __init__(self, hidden_size, output_size):\n",
        "        super(DecoderRNN, self).__init__()\n",
        "        self.hidden_size = hidden_size\n",
        "\n",
        "        self.embedding = nn.Embedding(output_size, hidden_size)\n",
        "        self.gru = nn.GRU(hidden_size, hidden_size)\n",
        "        self.out = nn.Linear(hidden_size, output_size)\n",
        "        self.softmax = nn.LogSoftmax(dim=1)\n",
        "\n",
        "    def forward(self, input, hidden):\n",
        "        output = self.embedding(input).view(1, 1, -1)\n",
        "        output = F.relu(output)\n",
        "        output, hidden = self.gru(output, hidden)\n",
        "        output = self.softmax(self.out(output[0]))\n",
        "        return output, hidden\n",
        "\n",
        "    def initHidden(self):\n",
        "        return torch.zeros(1, 1, self.hidden_size, device=device)"
      ]
    },
    {
      "cell_type": "markdown",
      "metadata": {
        "id": "uq-aIQM5hDM2"
      },
      "source": [
        "I encourage you to train and observe the results of this model, but to\n",
        "save space we'll be going straight for the gold and introducing the\n",
        "Attention Mechanism.\n",
        "\n",
        "\n"
      ]
    },
    {
      "cell_type": "markdown",
      "metadata": {
        "id": "lX06fjqNhDM3"
      },
      "source": [
        "Attention Decoder\n",
        "^^^^^^^^^^^^^^^^^\n",
        "\n",
        "If only the context vector is passed betweeen the encoder and decoder,\n",
        "that single vector carries the burden of encoding the entire sentence.\n",
        "\n",
        "Attention allows the decoder network to \"focus\" on a different part of\n",
        "the encoder's outputs for every step of the decoder's own outputs. First\n",
        "we calculate a set of *attention weights*. These will be multiplied by\n",
        "the encoder output vectors to create a weighted combination. The result\n",
        "(called ``attn_applied`` in the code) should contain information about\n",
        "that specific part of the input sequence, and thus help the decoder\n",
        "choose the right output words.\n",
        "\n",
        ".. figure:: https://i.imgur.com/1152PYf.png\n",
        "   :alt:\n",
        "\n",
        "Calculating the attention weights is done with another feed-forward\n",
        "layer ``attn``, using the decoder's input and hidden state as inputs.\n",
        "Because there are sentences of all sizes in the training data, to\n",
        "actually create and train this layer we have to choose a maximum\n",
        "sentence length (input length, for encoder outputs) that it can apply\n",
        "to. Sentences of the maximum length will use all the attention weights,\n",
        "while shorter sentences will only use the first few.\n",
        "\n",
        ".. figure:: /_static/img/seq-seq-images/attention-decoder-network.png\n",
        "   :alt:\n",
        "\n",
        "\n",
        "\n"
      ]
    },
    {
      "cell_type": "code",
      "execution_count": 11,
      "metadata": {
        "id": "sbIyVP9qhDM3"
      },
      "outputs": [],
      "source": [
        "class AttnDecoderRNN(nn.Module):\n",
        "    def __init__(self, hidden_size, output_size, dropout_p=0.1, max_length=MAX_LENGTH):\n",
        "        super(AttnDecoderRNN, self).__init__()\n",
        "        self.hidden_size = hidden_size\n",
        "        self.output_size = output_size\n",
        "        self.dropout_p = dropout_p\n",
        "        self.max_length = max_length\n",
        "\n",
        "        self.embedding = nn.Embedding(self.output_size, self.hidden_size)\n",
        "        self.attn = nn.Linear(self.hidden_size * 2, self.max_length)\n",
        "        self.attn_combine = nn.Linear(self.hidden_size * 2, self.hidden_size)\n",
        "        self.dropout = nn.Dropout(self.dropout_p)\n",
        "        self.gru = nn.GRU(self.hidden_size, self.hidden_size)\n",
        "        self.out = nn.Linear(self.hidden_size, self.output_size)\n",
        "\n",
        "    def forward(self, input, hidden, encoder_outputs):\n",
        "        embedded = self.embedding(input).view(1, 1, -1)\n",
        "        embedded = self.dropout(embedded)\n",
        "\n",
        "        attn_weights = F.softmax(\n",
        "            self.attn(torch.cat((embedded[0], hidden[0]), 1)), dim=1)\n",
        "        attn_applied = torch.bmm(attn_weights.unsqueeze(0),\n",
        "                                 encoder_outputs.unsqueeze(0))\n",
        "\n",
        "        output = torch.cat((embedded[0], attn_applied[0]), 1)\n",
        "        output = self.attn_combine(output).unsqueeze(0)\n",
        "\n",
        "        output = F.relu(output)\n",
        "        output, hidden = self.gru(output, hidden)\n",
        "\n",
        "        output = F.log_softmax(self.out(output[0]), dim=1)\n",
        "        return output, hidden, attn_weights\n",
        "\n",
        "    def initHidden(self):\n",
        "        return torch.zeros(1, 1, self.hidden_size, device=device)"
      ]
    },
    {
      "cell_type": "markdown",
      "metadata": {
        "id": "zkM1dJrUhDM6"
      },
      "source": [
        "<div class=\"alert alert-info\"><h4>Note</h4><p>There are other forms of attention that work around the length\n",
        "  limitation by using a relative position approach. Read about \"local\n",
        "  attention\" in `Effective Approaches to Attention-based Neural Machine\n",
        "  Translation <https://arxiv.org/abs/1508.04025>`__.</p></div>\n",
        "\n",
        "Training\n",
        "========\n",
        "\n",
        "Preparing Training Data\n",
        "-----------------------\n",
        "\n",
        "To train, for each pair we will need an input tensor (indexes of the\n",
        "words in the input sentence) and target tensor (indexes of the words in\n",
        "the target sentence). While creating these vectors we will append the\n",
        "EOS token to both sequences.\n",
        "\n",
        "\n"
      ]
    },
    {
      "cell_type": "code",
      "execution_count": 12,
      "metadata": {
        "id": "S5RDY2wihDM7"
      },
      "outputs": [],
      "source": [
        "def indexesFromSentence(lang, sentence):\n",
        "    return [lang.word2index[word] for word in sentence.split(' ')]\n",
        "\n",
        "\n",
        "def tensorFromSentence(lang, sentence):\n",
        "    indexes = indexesFromSentence(lang, sentence)\n",
        "    indexes.append(EOS_token)\n",
        "    return torch.tensor(indexes, dtype=torch.long, device=device).view(-1, 1)\n",
        "\n",
        "\n",
        "def tensorsFromPair(pair):\n",
        "    input_tensor = tensorFromSentence(input_lang, pair[0])\n",
        "    target_tensor = tensorFromSentence(output_lang, pair[1])\n",
        "    return (input_tensor, target_tensor)"
      ]
    },
    {
      "cell_type": "markdown",
      "metadata": {
        "id": "DqcPFEr2hDM9"
      },
      "source": [
        "Training the Model\n",
        "------------------\n",
        "\n",
        "To train we run the input sentence through the encoder, and keep track\n",
        "of every output and the latest hidden state. Then the decoder is given\n",
        "the ``<SOS>`` token as its first input, and the last hidden state of the\n",
        "encoder as its first hidden state.\n",
        "\n",
        "\"Teacher forcing\" is the concept of using the real target outputs as\n",
        "each next input, instead of using the decoder's guess as the next input.\n",
        "Using teacher forcing causes it to converge faster but `when the trained\n",
        "network is exploited, it may exhibit\n",
        "instability <http://minds.jacobs-university.de/sites/default/files/uploads/papers/ESNTutorialRev.pdf>`__.\n",
        "\n",
        "You can observe outputs of teacher-forced networks that read with\n",
        "coherent grammar but wander far from the correct translation -\n",
        "intuitively it has learned to represent the output grammar and can \"pick\n",
        "up\" the meaning once the teacher tells it the first few words, but it\n",
        "has not properly learned how to create the sentence from the translation\n",
        "in the first place.\n",
        "\n",
        "Because of the freedom PyTorch's autograd gives us, we can randomly\n",
        "choose to use teacher forcing or not with a simple if statement. Turn\n",
        "``teacher_forcing_ratio`` up to use more of it.\n",
        "\n",
        "\n"
      ]
    },
    {
      "cell_type": "code",
      "execution_count": 13,
      "metadata": {
        "id": "_-9ZIY-9hDM9"
      },
      "outputs": [],
      "source": [
        "teacher_forcing_ratio = 0.5\n",
        "\n",
        "\n",
        "def train(input_tensor, target_tensor, encoder, decoder, encoder_optimizer, decoder_optimizer, criterion, max_length=MAX_LENGTH):\n",
        "    encoder_hidden = encoder.initHidden()\n",
        "\n",
        "    encoder_optimizer.zero_grad()\n",
        "    decoder_optimizer.zero_grad()\n",
        "\n",
        "    input_length = input_tensor.size(0)\n",
        "    target_length = target_tensor.size(0)\n",
        "\n",
        "    encoder_outputs = torch.zeros(max_length, encoder.hidden_size, device=device)\n",
        "\n",
        "    loss = 0\n",
        "\n",
        "    for ei in range(input_length):\n",
        "        encoder_output, encoder_hidden = encoder(\n",
        "            input_tensor[ei], encoder_hidden)\n",
        "        encoder_outputs[ei] = encoder_output[0, 0]\n",
        "\n",
        "    decoder_input = torch.tensor([[SOS_token]], device=device)\n",
        "\n",
        "    decoder_hidden = encoder_hidden\n",
        "\n",
        "    use_teacher_forcing = True if random.random() < teacher_forcing_ratio else False\n",
        "\n",
        "    if use_teacher_forcing:\n",
        "        # Teacher forcing: Feed the target as the next input\n",
        "        if isinstance(decoder, DecoderRNN):\n",
        "          for di in range(target_length):\n",
        "            decoder_output, decoder_hidden = decoder(\n",
        "                decoder_input, decoder_hidden)\n",
        "            loss += criterion(decoder_output, target_tensor[di])\n",
        "            decoder_input = target_tensor[di]  # Teacher forcing\n",
        "        else:\n",
        "          for di in range(target_length):\n",
        "              decoder_output, decoder_hidden, decoder_attention = decoder(\n",
        "                  decoder_input, decoder_hidden, encoder_outputs)\n",
        "              loss += criterion(decoder_output, target_tensor[di])\n",
        "              decoder_input = target_tensor[di]  # Teacher forcing\n",
        "        \n",
        "\n",
        "    else:\n",
        "        if isinstance(decoder, DecoderRNN):\n",
        "          for di in range(target_length):\n",
        "            decoder_output, decoder_hidden = decoder(\n",
        "                decoder_input, decoder_hidden)\n",
        "            topv, topi = decoder_output.topk(1)\n",
        "            decoder_input = topi.squeeze().detach()  # detach from history as input\n",
        "            loss += criterion(decoder_output, target_tensor[di])\n",
        "            if decoder_input.item() == EOS_token:\n",
        "                break\n",
        "        else:\n",
        "        # Without teacher forcing: use its own predictions as the next input\n",
        "          for di in range(target_length):\n",
        "              decoder_output, decoder_hidden, decoder_attention = decoder(\n",
        "                  decoder_input, decoder_hidden, encoder_outputs)\n",
        "              topv, topi = decoder_output.topk(1)\n",
        "              decoder_input = topi.squeeze().detach()  # detach from history as input\n",
        "\n",
        "              loss += criterion(decoder_output, target_tensor[di])\n",
        "              if decoder_input.item() == EOS_token:\n",
        "                  break\n",
        "\n",
        "    loss.backward()\n",
        "\n",
        "    encoder_optimizer.step()\n",
        "    decoder_optimizer.step()\n",
        "\n",
        "    return loss.item() / target_length"
      ]
    },
    {
      "cell_type": "markdown",
      "metadata": {
        "id": "1MNyZJbMhDNA"
      },
      "source": [
        "This is a helper function to print time elapsed and estimated time\n",
        "remaining given the current time and progress %.\n",
        "\n",
        "\n"
      ]
    },
    {
      "cell_type": "code",
      "execution_count": 14,
      "metadata": {
        "id": "u93RDnBbhDNA"
      },
      "outputs": [],
      "source": [
        "import time\n",
        "import math\n",
        "\n",
        "def timeSince(since):\n",
        "    now = time.time()\n",
        "    s = now - since\n",
        "    m = math.floor(s / 60)\n",
        "    s -= m * 60\n",
        "    return '%dm %ds' % (m, s)  \n",
        "  \n",
        "def eval(input_tensor, target_tensor, encoder, decoder, criterion, max_length=MAX_LENGTH):\n",
        "    encoder_hidden = encoder.initHidden()\n",
        "\n",
        "    input_length = input_tensor.size(0)\n",
        "    target_length = target_tensor.size(0)\n",
        "\n",
        "    encoder_outputs = torch.zeros(max_length, encoder.hidden_size, device=device)\n",
        "\n",
        "    loss = 0\n",
        "\n",
        "    for ei in range(input_length):\n",
        "        encoder_output, encoder_hidden = encoder(\n",
        "            input_tensor[ei], encoder_hidden)\n",
        "        encoder_outputs[ei] = encoder_output[0, 0]\n",
        "\n",
        "    decoder_input = torch.tensor([[SOS_token]], device=device)\n",
        "\n",
        "    decoder_hidden = encoder_hidden\n",
        "    if isinstance(decoder, DecoderRNN):\n",
        "      for di in range(target_length):\n",
        "        decoder_output, decoder_hidden = decoder(\n",
        "            decoder_input, decoder_hidden)\n",
        "        topv, topi = decoder_output.topk(1)\n",
        "        decoder_input = topi.squeeze().detach()  # detach from history as input\n",
        "\n",
        "        loss += criterion(decoder_output, target_tensor[di])\n",
        "        if decoder_input.item() == EOS_token:\n",
        "            break\n",
        "    # Without teacher forcing: use its own predictions as the next input\n",
        "    else:\n",
        "      for di in range(target_length):\n",
        "        decoder_output, decoder_hidden, decoder_attention = decoder(\n",
        "            decoder_input, decoder_hidden, encoder_outputs)\n",
        "        topv, topi = decoder_output.topk(1)\n",
        "        decoder_input = topi.squeeze().detach()  # detach from history as input\n",
        "        loss += criterion(decoder_output, target_tensor[di])\n",
        "        if decoder_input.item() == EOS_token:\n",
        "            break\n",
        "\n",
        "    return loss.item() / target_length\n",
        "\n",
        "def eval_dataset(dataset, encoder, decoder, criterion, max_length):\n",
        "    loss = 0\n",
        "    for pair in dataset:\n",
        "        pair_tensor = tensorsFromPair(pair)\n",
        "        input_tensor = pair_tensor[0]\n",
        "        target_tensor = pair_tensor[1]\n",
        "        loss += eval(input_tensor, target_tensor, encoder, decoder, criterion, max_length)\n",
        "    return loss / len(dataset)\n"
      ]
    },
    {
      "cell_type": "markdown",
      "metadata": {
        "id": "0P4esNG3hDNC"
      },
      "source": [
        "The whole training process looks like this:\n",
        "\n",
        "-  Start a timer\n",
        "-  Initialize optimizers and criterion\n",
        "-  Create set of training pairs\n",
        "-  Start empty losses array for plotting\n",
        "\n",
        "Then we call ``train`` many times and occasionally print the progress (%\n",
        "of examples, time so far, estimated time) and average loss.\n",
        "\n",
        "\n"
      ]
    },
    {
      "cell_type": "code",
      "execution_count": 15,
      "metadata": {
        "id": "EHMnAC2XhDNC"
      },
      "outputs": [],
      "source": [
        "\n",
        "def trainIters(encoder, decoder, n_iters, print_every=2000, plot_every=1000, max_length = MAX_LENGTH):\n",
        "    start = time.time()\n",
        "    all_train_losses = []\n",
        "    all_validation_losses = []\n",
        "    train_loss = 0  # Reset every plot_every\n",
        "\n",
        "    encoder_optimizer = torch.optim.Adam(encoder.parameters())\n",
        "    decoder_optimizer = torch.optim.Adam(decoder.parameters())\n",
        "    training_pairs = [tensorsFromPair(random.choice(train_data))\n",
        "                      for i in range(n_iters)]\n",
        "    criterion = nn.NLLLoss()\n",
        "\n",
        "    print('\\nIter \\tTrain% \\tTime \\t\\tTrain_loss')\n",
        "    for iter in range(1, n_iters + 1):\n",
        "        training_pair = training_pairs[iter - 1]\n",
        "        input_tensor = training_pair[0]\n",
        "        target_tensor = training_pair[1]\n",
        "\n",
        "        loss = train(input_tensor, target_tensor, encoder,\n",
        "                     decoder, encoder_optimizer, decoder_optimizer, criterion, max_length)\n",
        "        train_loss += loss\n",
        "\n",
        "        if iter % print_every == 0:\n",
        "            print('%d \\t%d%% \\t(%s) \\t%.4f' % (iter, iter / n_iters * 100, timeSince(start), train_loss / plot_every))\n",
        "\n",
        "        if iter % plot_every == 0:\n",
        "            all_train_losses.append(train_loss / plot_every)\n",
        "            train_loss = 0\n",
        "            \n",
        "        # Compute loss based on validation data\n",
        "        if iter % plot_every == 0:\n",
        "            average_validation_loss = eval_dataset(validation_data, encoder, decoder, criterion, max_length)\n",
        "\n",
        "            # save model with best validation loss\n",
        "            if len(all_validation_losses) == 0 or average_validation_loss < min(all_validation_losses):\n",
        "                if isinstance(decoder, DecoderRNN):\n",
        "                  torch.save(encoder, 'seq2seq_translation_encoder_model.pt')\n",
        "                  torch.save(decoder, 'seq2seq_translation_decoder_model.pt')\n",
        "                else:\n",
        "                  torch.save(encoder, 'seq2seq_translation_encoder_model.pt')\n",
        "                  torch.save(decoder, 'seq2seq_translation_attn_decoder_model.pt')\n",
        "            all_validation_losses.append(average_validation_loss)\n",
        "    return all_train_losses, all_validation_losses       \n",
        "    "
      ]
    },
    {
      "cell_type": "markdown",
      "metadata": {
        "id": "S2owEQcjhDNE"
      },
      "source": [
        "Plotting results\n",
        "----------------\n",
        "\n",
        "Plotting is done with matplotlib, using the array of loss values\n",
        "``plot_losses`` saved while training.\n",
        "\n",
        "\n"
      ]
    },
    {
      "cell_type": "code",
      "execution_count": 16,
      "metadata": {
        "id": "zfUOZwwohDNF"
      },
      "outputs": [],
      "source": [
        "import matplotlib.pyplot as plt\n",
        "import matplotlib.ticker as ticker\n",
        "import numpy as np\n",
        "\n",
        "\n",
        "def showPlot(all_train_losses, all_validation_losses, all_train_losses_att, all_validation_losses_att, all_train_losses_trans, all_validation_losses_trans):\n",
        "    plt.figure()\n",
        "    fig, ax = plt.subplots()\n",
        "    # this locator puts ticks at regular intervals\n",
        "    loc = ticker.MultipleLocator(base=0.2)\n",
        "    ax.yaxis.set_major_locator(loc)\n",
        "    plt.plot(all_train_losses_att, label = \"rnn with attention\")\n",
        "    plt.plot(all_train_losses, label = \"rnn without attention\")\n",
        "    plt.plot(all_train_losses_trans, label = \"transformer\")\n",
        "    plt.title('Seq2seq translation (training loss)')\n",
        "    plt.ylabel('Negative Log Likelihood')\n",
        "    plt.xlabel('# of 1000 iterations')\n",
        "    plt.legend(loc='upper right')\n",
        "\n",
        "    plt.figure()\n",
        "    fig, ax = plt.subplots()\n",
        "    # this locator puts ticks at regular intervals\n",
        "    loc = ticker.MultipleLocator(base=0.2)\n",
        "    ax.yaxis.set_major_locator(loc)\n",
        "    plt.plot(all_validation_losses_att, label = \"rnn with attention\")\n",
        "    plt.plot(all_validation_losses, label = \"rnn without attention\")\n",
        "    plt.plot(all_validation_losses_trans, label = \"transformer\")\n",
        "    plt.title('Seq2seq translation (validation loss)')\n",
        "    plt.ylabel('Negative Log Likelihood')\n",
        "    plt.xlabel('# of 1000 iterations')\n",
        "    plt.legend(loc='upper right')\n"
      ]
    },
    {
      "cell_type": "markdown",
      "metadata": {
        "id": "OzGQOsVwhDNL"
      },
      "source": [
        "Evaluation\n",
        "==========\n",
        "\n",
        "Evaluation is mostly the same as training, but there are no targets so\n",
        "we simply feed the decoder's predictions back to itself for each step.\n",
        "Every time it predicts a word we add it to the output string, and if it\n",
        "predicts the EOS token we stop there. We also store the decoder's\n",
        "attention outputs for display later.\n",
        "\n",
        "\n"
      ]
    },
    {
      "cell_type": "code",
      "execution_count": 17,
      "metadata": {
        "id": "TYxnB8xrhDNO"
      },
      "outputs": [],
      "source": [
        "def evaluate(encoder, decoder, sentence, max_length=MAX_LENGTH):\n",
        "    with torch.no_grad():\n",
        "        input_tensor = tensorFromSentence(input_lang, sentence)\n",
        "        input_length = input_tensor.size()[0]\n",
        "        encoder_hidden = encoder.initHidden()\n",
        "\n",
        "        encoder_outputs = torch.zeros(max_length, encoder.hidden_size, device=device)\n",
        "\n",
        "        for ei in range(input_length):\n",
        "            encoder_output, encoder_hidden = encoder(input_tensor[ei],\n",
        "                                                     encoder_hidden)\n",
        "            encoder_outputs[ei] += encoder_output[0, 0]\n",
        "\n",
        "        decoder_input = torch.tensor([[SOS_token]], device=device)  # SOS\n",
        "\n",
        "        decoder_hidden = encoder_hidden\n",
        "\n",
        "        decoded_words = []\n",
        "        decoder_attentions = torch.zeros(max_length, max_length)\n",
        "\n",
        "        for di in range(max_length):\n",
        "            decoder_output, decoder_hidden, decoder_attention = decoder(\n",
        "                decoder_input, decoder_hidden, encoder_outputs)\n",
        "            decoder_attentions[di] = decoder_attention.data\n",
        "            topv, topi = decoder_output.data.topk(1)\n",
        "            if topi.item() == EOS_token:\n",
        "                decoded_words.append('<EOS>')\n",
        "                break\n",
        "            else:\n",
        "                decoded_words.append(output_lang.index2word[topi.item()])\n",
        "\n",
        "            decoder_input = topi.squeeze().detach()\n",
        "\n",
        "        return decoded_words, decoder_attentions[:di + 1]"
      ]
    },
    {
      "cell_type": "markdown",
      "metadata": {
        "id": "kZ7tKrQhhDNS"
      },
      "source": [
        "We can evaluate random sentences from the training set and print out the\n",
        "input, target, and output to make some subjective quality judgements:\n",
        "\n",
        "\n"
      ]
    },
    {
      "cell_type": "code",
      "execution_count": 18,
      "metadata": {
        "id": "C4EGJ_DshDNS"
      },
      "outputs": [],
      "source": [
        "def evaluateRandomly(encoder, decoder, n=10):\n",
        "    for i in range(n):\n",
        "        pair = random.choice(pairs)\n",
        "        print('>', pair[0])\n",
        "        print('=', pair[1])\n",
        "        output_words, attentions = evaluate(encoder, decoder, pair[0])\n",
        "        output_sentence = ' '.join(output_words)\n",
        "        print('<', output_sentence)\n",
        "        print('')"
      ]
    },
    {
      "cell_type": "markdown",
      "metadata": {
        "id": "ccjngdxIhDNU"
      },
      "source": [
        "Training and Evaluating\n",
        "=======================\n",
        "\n",
        "With all these helper functions in place (it looks like extra work, but\n",
        "it makes it easier to run multiple experiments) we can actually\n",
        "initialize a network and start training.\n",
        "\n",
        "Remember that the input sentences were heavily filtered. For this small\n",
        "dataset we can use relatively small networks of 32 hidden nodes and a\n",
        "single GRU layer. \n",
        "\n",
        ".. Note::\n",
        "   If you run this notebook you can train, interrupt the kernel,\n",
        "   evaluate, and continue training later. Comment out the lines where the\n",
        "   encoder and decoder are initialized and run ``trainIters`` again.\n",
        "\n",
        "\n"
      ]
    },
    {
      "cell_type": "code",
      "execution_count": 19,
      "metadata": {
        "colab": {
          "base_uri": "https://localhost:8080/"
        },
        "id": "mHYVw6R8hDNU",
        "outputId": "db135d03-0bdf-43c6-94db-d7362900493b"
      },
      "outputs": [
        {
          "output_type": "stream",
          "name": "stdout",
          "text": [
            "\n",
            "Iter \tTrain% \tTime \t\tTrain_loss\n",
            "2000 \t6% \t(0m 32s) \t1.4570\n",
            "4000 \t13% \t(1m 2s) \t1.2323\n",
            "6000 \t20% \t(1m 33s) \t1.1337\n",
            "8000 \t26% \t(2m 3s) \t1.0667\n",
            "10000 \t33% \t(2m 33s) \t1.0300\n",
            "12000 \t40% \t(3m 3s) \t0.9934\n",
            "14000 \t46% \t(3m 32s) \t0.9430\n",
            "16000 \t53% \t(4m 2s) \t0.8993\n",
            "18000 \t60% \t(4m 32s) \t0.8631\n",
            "20000 \t66% \t(5m 8s) \t0.8280\n",
            "22000 \t73% \t(5m 39s) \t0.7790\n",
            "24000 \t80% \t(6m 9s) \t0.7490\n",
            "26000 \t86% \t(6m 39s) \t0.7375\n",
            "28000 \t93% \t(7m 9s) \t0.6788\n",
            "30000 \t100% \t(7m 39s) \t0.6661\n",
            "Average test loss: 1.3924652011053904\n"
          ]
        }
      ],
      "source": [
        "hidden_size = 32\n",
        "MAX_LENGTH = 5\n",
        "encoder = EncoderRNN(input_lang.n_words, hidden_size).to(device)\n",
        "attn_decoder = AttnDecoderRNN(hidden_size, output_lang.n_words, dropout_p=0.1, max_length = MAX_LENGTH).to(device)\n",
        "\n",
        "train_losses_att, val_losses_att = trainIters(encoder, attn_decoder, 30000, max_length = MAX_LENGTH)\n",
        "\n",
        "# evaluate on test set and print average test loss\n",
        "encoder = torch.load('seq2seq_translation_encoder_model.pt')\n",
        "attn_decoder = torch.load('seq2seq_translation_attn_decoder_model.pt')\n",
        "average_test_loss = eval_dataset(test_data, encoder, attn_decoder, nn.NLLLoss(), MAX_LENGTH)\n",
        "print('Average test loss: ' + str(average_test_loss))"
      ]
    },
    {
      "cell_type": "code",
      "execution_count": 20,
      "metadata": {
        "id": "RWT1RYtXhDNW",
        "colab": {
          "base_uri": "https://localhost:8080/"
        },
        "outputId": "3cf0b1b2-e139-4eba-dbcb-728d6dc6581a"
      },
      "outputs": [
        {
          "output_type": "stream",
          "name": "stdout",
          "text": [
            "> vous etes pathetiques .\n",
            "= you re pathetic .\n",
            "< you re big . <EOS>\n",
            "\n",
            "> vous etes bougon .\n",
            "= you re grumpy .\n",
            "< you re crafty . <EOS>\n",
            "\n",
            "> tu temporises .\n",
            "= you re stalling .\n",
            "< you re lying . <EOS>\n",
            "\n",
            "> tu viens tot .\n",
            "= you are early .\n",
            "< you re crafty . <EOS>\n",
            "\n",
            "> je suis sensible .\n",
            "= i m sensitive .\n",
            "< i m exhausted . <EOS>\n",
            "\n",
            "> vous etes paresseux .\n",
            "= you re lazy .\n",
            "< you re big . <EOS>\n",
            "\n",
            "> ils sont medecins .\n",
            "= they are doctors .\n",
            "< they re exhausted . <EOS>\n",
            "\n",
            "> vous etes connu .\n",
            "= you re famous .\n",
            "< you re big . <EOS>\n",
            "\n",
            "> je suis creve .\n",
            "= i m exhausted .\n",
            "< i m exhausted . <EOS>\n",
            "\n",
            "> je suis gene .\n",
            "= i m embarrassed .\n",
            "< i m exhausted . <EOS>\n",
            "\n"
          ]
        }
      ],
      "source": [
        "evaluateRandomly(encoder, attn_decoder)"
      ]
    },
    {
      "cell_type": "markdown",
      "metadata": {
        "id": "G74HMibRhDNY"
      },
      "source": [
        "Visualizing Attention\n",
        "---------------------\n",
        "\n",
        "A useful property of the attention mechanism is its highly interpretable\n",
        "outputs. Because it is used to weight specific encoder outputs of the\n",
        "input sequence, we can imagine looking where the network is focused most\n",
        "at each time step.\n",
        "\n",
        "You could simply run ``plt.matshow(attentions)`` to see attention output\n",
        "displayed as a matrix, with the columns being input steps and rows being\n",
        "output steps:\n",
        "\n",
        "\n"
      ]
    },
    {
      "cell_type": "code",
      "execution_count": 21,
      "metadata": {
        "id": "td5zVWerhDNY"
      },
      "outputs": [],
      "source": [
        "# output_words, attentions = evaluate(encoder, attn_decoder, \"je suis trop froid .\")\n",
        "# plt.matshow(attentions.numpy())"
      ]
    },
    {
      "cell_type": "markdown",
      "metadata": {
        "id": "14_k6TMihDNa"
      },
      "source": [
        "For a better viewing experience we will do the extra work of adding axes\n",
        "and labels:\n",
        "\n",
        "\n"
      ]
    },
    {
      "cell_type": "code",
      "execution_count": 22,
      "metadata": {
        "id": "VD1nUfC_hDNa"
      },
      "outputs": [],
      "source": [
        "# def showAttention(input_sentence, output_words, attentions):\n",
        "#     # Set up figure with colorbar\n",
        "#     fig = plt.figure()\n",
        "#     ax = fig.add_subplot(111)\n",
        "#     cax = ax.matshow(attentions.numpy(), cmap='bone')\n",
        "#     fig.colorbar(cax)\n",
        "\n",
        "#     # Set up axes\n",
        "#     ax.set_xticklabels([''] + input_sentence.split(' ') +\n",
        "#                        ['<EOS>'], rotation=90)\n",
        "#     ax.set_yticklabels([''] + output_words)\n",
        "\n",
        "#     # Show label at every tick\n",
        "#     ax.xaxis.set_major_locator(ticker.MultipleLocator(1))\n",
        "#     ax.yaxis.set_major_locator(ticker.MultipleLocator(1))\n",
        "\n",
        "#     plt.show()\n",
        "\n",
        "\n",
        "# def evaluateAndShowAttention(input_sentence):\n",
        "#     output_words, attentions = evaluate(\n",
        "#         encoder, attn_decoder, input_sentence)\n",
        "#     print('input =', input_sentence)\n",
        "#     print('output =', ' '.join(output_words))\n",
        "#     showAttention(input_sentence, output_words, attentions)\n",
        "\n",
        "\n",
        "# evaluateAndShowAttention(\"elle a cinq ans de moins que moi .\")\n",
        "\n",
        "# evaluateAndShowAttention(\"elle est trop petit .\")\n",
        "\n",
        "# evaluateAndShowAttention(\"je ne crains pas de mourir .\")\n",
        "\n",
        "# evaluateAndShowAttention(\"c est un jeune directeur plein de talent .\")"
      ]
    },
    {
      "cell_type": "markdown",
      "metadata": {
        "id": "H0-j6qvmhDNc"
      },
      "source": [
        "Exercises\n",
        "=========\n",
        "\n",
        "-  Try with a different dataset\n",
        "\n",
        "   -  Another language pair\n",
        "   -  Human → Machine (e.g. IOT commands)\n",
        "   -  Chat → Response\n",
        "   -  Question → Answer\n",
        "\n",
        "-  Replace the embeddings with pre-trained word embeddings such as word2vec or\n",
        "   GloVe\n",
        "-  Try with more layers, more hidden units, and more sentences. Compare\n",
        "   the training time and results.\n",
        "-  If you use a translation file where pairs have two of the same phrase\n",
        "   (``I am test \\t I am test``), you can use this as an autoencoder. Try\n",
        "   this:\n",
        "\n",
        "   -  Train as an autoencoder\n",
        "   -  Save only the Encoder network\n",
        "   -  Train a new Decoder for translation from there\n",
        "\n",
        "\n"
      ]
    },
    {
      "cell_type": "markdown",
      "metadata": {
        "id": "9UWKHc0gmpKO"
      },
      "source": [
        "### Training a seq2seq RNN without Attention (Max Length 5)"
      ]
    },
    {
      "cell_type": "code",
      "execution_count": 23,
      "metadata": {
        "colab": {
          "base_uri": "https://localhost:8080/"
        },
        "id": "mlwHA6DtiIB4",
        "outputId": "ac25aee7-443a-4535-e368-3e0b9d0628b2"
      },
      "outputs": [
        {
          "output_type": "stream",
          "name": "stdout",
          "text": [
            "\n",
            "Iter \tTrain% \tTime \t\tTrain_loss\n",
            "2000 \t6% \t(0m 20s) \t1.5015\n",
            "4000 \t13% \t(0m 40s) \t1.2142\n",
            "6000 \t20% \t(1m 0s) \t1.1491\n",
            "8000 \t26% \t(1m 20s) \t1.0951\n",
            "10000 \t33% \t(1m 40s) \t1.0435\n",
            "12000 \t40% \t(1m 59s) \t0.9898\n",
            "14000 \t46% \t(2m 19s) \t0.9332\n",
            "16000 \t53% \t(2m 39s) \t0.8885\n",
            "18000 \t60% \t(2m 59s) \t0.8593\n",
            "20000 \t66% \t(3m 19s) \t0.7989\n",
            "22000 \t73% \t(3m 38s) \t0.7606\n",
            "24000 \t80% \t(3m 58s) \t0.7258\n",
            "26000 \t86% \t(4m 18s) \t0.7093\n",
            "28000 \t93% \t(4m 38s) \t0.6738\n",
            "30000 \t100% \t(4m 57s) \t0.6663\n",
            "Average test loss: 1.41557557957513\n"
          ]
        }
      ],
      "source": [
        "hidden_size = 32\n",
        "encoder = EncoderRNN(input_lang.n_words, hidden_size).to(device)\n",
        "decoder = DecoderRNN(hidden_size, output_lang.n_words).to(device)\n",
        "MAX_LENGTH = 5\n",
        "train_losses, val_losses = trainIters(encoder, decoder, 30000, max_length = MAX_LENGTH)\n",
        "# evaluate on test set and print average test loss\n",
        "encoder = torch.load('seq2seq_translation_encoder_model.pt')\n",
        "decoder = torch.load('seq2seq_translation_decoder_model.pt')\n",
        "average_test_loss = eval_dataset(test_data, encoder, decoder, nn.NLLLoss(), MAX_LENGTH)\n",
        "print('Average test loss: ' + str(average_test_loss))"
      ]
    },
    {
      "cell_type": "markdown",
      "metadata": {
        "id": "gxLEg0fG5qir"
      },
      "source": [
        "### Seq2Seq using Transformer (Max Length 5)"
      ]
    },
    {
      "cell_type": "code",
      "execution_count": 24,
      "metadata": {
        "id": "M4hfa26Riu5l"
      },
      "outputs": [],
      "source": [
        "from torch import Tensor\n",
        "\n",
        "from torch.nn import Transformer\n",
        "\n",
        "# helper Module that adds positional encoding to the token embedding to introduce a notion of word order.\n",
        "class PositionalEncoding(nn.Module):\n",
        "    def __init__(self,\n",
        "                 hidden_size: int,\n",
        "                 dropout: float,\n",
        "                 maxlen: int = 5000):\n",
        "        super(PositionalEncoding, self).__init__()\n",
        "        den = torch.exp(- torch.arange(0, hidden_size, 2)* math.log(10000) / hidden_size)\n",
        "        pos = torch.arange(0, maxlen).reshape(maxlen, 1)\n",
        "        pos_embedding = torch.zeros((maxlen, hidden_size))\n",
        "        pos_embedding[:, 0::2] = torch.sin(pos * den)\n",
        "        pos_embedding[:, 1::2] = torch.cos(pos * den)\n",
        "        pos_embedding = pos_embedding.unsqueeze(-2)\n",
        "\n",
        "        self.dropout = nn.Dropout(dropout)\n",
        "        self.register_buffer('pos_embedding', pos_embedding)\n",
        "\n",
        "    def forward(self, token_embedding: Tensor):\n",
        "        return self.dropout(token_embedding + self.pos_embedding[:token_embedding.size(0), :])\n",
        "\n",
        "# helper Module to convert tensor of input indices into corresponding tensor of token embeddings\n",
        "class TokenEmbedding(nn.Module):\n",
        "    def __init__(self, vocab_size: int, hidden_size):\n",
        "        super(TokenEmbedding, self).__init__()\n",
        "        self.embedding = nn.Embedding(vocab_size, hidden_size)\n",
        "        self.hidden_size = hidden_size\n",
        "\n",
        "    def forward(self, tokens: Tensor):\n",
        "        return self.embedding(tokens.long()) * math.sqrt(self.hidden_size)\n"
      ]
    },
    {
      "cell_type": "code",
      "execution_count": 25,
      "metadata": {
        "id": "QpfPKtSKDf6N"
      },
      "outputs": [],
      "source": [
        "# Seq2Seq Network\n",
        "class Seq2SeqTransformer(nn.Module):\n",
        "    def __init__(self,\n",
        "                 num_encoder_layers: int,\n",
        "                 num_decoder_layers: int,\n",
        "                 hidden_size: int,\n",
        "                 nhead: int,\n",
        "                 input_size: int,\n",
        "                 output_size: int,\n",
        "                 dim_feedforward: int = 512,\n",
        "                 dropout: float = 0.1):\n",
        "        super(Seq2SeqTransformer, self).__init__()\n",
        "        self.transformer = Transformer(d_model=hidden_size,\n",
        "                                       nhead=nhead,\n",
        "                                       num_encoder_layers=num_encoder_layers,\n",
        "                                       num_decoder_layers=num_decoder_layers,\n",
        "                                       dim_feedforward=dim_feedforward,\n",
        "                                       dropout=dropout)\n",
        "        self.generator = nn.Linear(hidden_size, output_size)\n",
        "        self.src_tok_emb = TokenEmbedding(input_size, hidden_size)\n",
        "        self.tgt_tok_emb = TokenEmbedding(output_size, hidden_size)\n",
        "        self.positional_encoding = PositionalEncoding(\n",
        "            hidden_size, dropout=dropout)\n",
        "\n",
        "    def forward(self,\n",
        "                src: Tensor,\n",
        "                trg: Tensor,\n",
        "                src_mask: Tensor,\n",
        "                tgt_mask: Tensor,\n",
        "                ):\n",
        "        src_emb = self.positional_encoding(self.src_tok_emb(src))\n",
        "        memory = self.transformer.encoder(src_emb, src_mask)\n",
        "        tgt_emb = self.positional_encoding(self.tgt_tok_emb(trg))\n",
        "        outs = self.transformer(src_emb, tgt_emb, src_mask, tgt_mask)\n",
        "        return self.generator(outs)\n",
        "\n",
        "    def encode(self, src: Tensor, src_mask: Tensor):\n",
        "        return self.transformer.encoder(self.positional_encoding(\n",
        "                            self.src_tok_emb(src)), src_mask)\n",
        "\n",
        "    def decode(self, tgt: Tensor, memory: Tensor, tgt_mask: Tensor):\n",
        "        return self.transformer.decoder(self.positional_encoding(\n",
        "                          self.tgt_tok_emb(tgt)), memory,\n",
        "                          tgt_mask)\n"
      ]
    },
    {
      "cell_type": "code",
      "execution_count": 26,
      "metadata": {
        "id": "oWUydyog5ESn"
      },
      "outputs": [],
      "source": [
        "def generate_square_subsequent_mask(sz):\n",
        "    mask = (torch.triu(torch.ones((sz, sz), device=device)) == 1).transpose(0, 1)\n",
        "    diag_mask = torch.eye(sz, device=device).type(torch.bool)\n",
        "    mask = mask.float().masked_fill(mask == 0, float('-inf')).masked_fill(mask == 1, float(0.0))\n",
        "    return mask\n",
        "\n",
        "\n",
        "def create_mask(src, tgt):\n",
        "    src_seq_len = src.shape[0]\n",
        "    tgt_seq_len = tgt.shape[0]\n",
        "\n",
        "    tgt_mask = generate_square_subsequent_mask(tgt_seq_len)\n",
        "    src_mask = torch.zeros((src_seq_len, src_seq_len),device=device).type(torch.bool)\n",
        "\n",
        "    return src_mask, tgt_mask\n"
      ]
    },
    {
      "cell_type": "code",
      "execution_count": 27,
      "metadata": {
        "id": "yIy3iwEoG9bD"
      },
      "outputs": [],
      "source": [
        "def trainIters_transformer(transformer, n_iters, print_every=2000, plot_every=1000, max_length = MAX_LENGTH):\n",
        "    start = time.time()\n",
        "    all_train_losses = []\n",
        "    all_validation_losses = []\n",
        "    train_loss = 0  # Reset every plot_every\n",
        "\n",
        "    transformer_optimizer = torch.optim.Adam(transformer.parameters(), lr=0.0001)\n",
        "    training_pairs = [tensorsFromPair(random.choice(train_data))\n",
        "                      for i in range(n_iters)]\n",
        "    criterion = nn.NLLLoss()\n",
        "\n",
        "    print('\\nIter \\tTrain% \\tTime \\t\\tTrain_loss')\n",
        "    for iter in range(1, n_iters + 1):\n",
        "        training_pair = training_pairs[iter - 1]\n",
        "        input_tensor = training_pair[0]\n",
        "        target_tensor = training_pair[1]\n",
        "\n",
        "        loss = train_transformer(input_tensor, target_tensor, transformer, transformer_optimizer, criterion, max_length)\n",
        "        train_loss += loss\n",
        "\n",
        "        if iter % print_every == 0:\n",
        "            print('%d \\t%d%% \\t(%s) \\t%.4f' % (iter, iter / n_iters * 100, timeSince(start), train_loss / plot_every))\n",
        "\n",
        "        if iter % plot_every == 0:\n",
        "            all_train_losses.append(train_loss / plot_every)\n",
        "            train_loss = 0\n",
        "            \n",
        "        # Compute loss based on validation data\n",
        "        if iter % plot_every == 0:\n",
        "            average_validation_loss = eval_dataset_transformer(validation_data, transformer, criterion, max_length)\n",
        "\n",
        "            # save model with best validation loss\n",
        "            if len(all_validation_losses) == 0 or average_validation_loss < min(all_validation_losses):\n",
        "                  torch.save(transformer, 'seq2seq_translation_transformer_model.pt')\n",
        "                  \n",
        "            all_validation_losses.append(average_validation_loss)\n",
        "            \n",
        "    return all_train_losses, all_validation_losses"
      ]
    },
    {
      "cell_type": "code",
      "execution_count": 28,
      "metadata": {
        "id": "CNLg15BYFCPH"
      },
      "outputs": [],
      "source": [
        "def train_transformer(input_tensor, target_tensor, transformer, transformer_optimizer, criterion, max_length=MAX_LENGTH):\n",
        "  transformer.train()\n",
        "  transformer_optimizer.zero_grad()\n",
        "  input_length = input_tensor.size(0)\n",
        "  target_length = target_tensor.size(0)\n",
        "  loss = 0\n",
        "  sos_token = torch.tensor([[SOS_token]], device=device)\n",
        "  \n",
        "  target_tensor = torch.cat((sos_token, target_tensor[:-1]), dim=0) \n",
        "  src_mask, tgt_mask = create_mask(input_tensor, target_tensor)\n",
        "  output = transformer(input_tensor, target_tensor, src_mask, tgt_mask)\n",
        "  output = F.log_softmax(output,dim=-1)\n",
        "\n",
        "  target_with_eos = torch.cat((target_tensor, torch.tensor([EOS_token], device=device).unsqueeze(0)))\n",
        "  loss = criterion(output.view(-1, output.size(-1)), target_with_eos[1:].view(-1))\n",
        "  loss.backward()\n",
        "  transformer_optimizer.step()\n",
        "  return loss.item() / target_length"
      ]
    },
    {
      "cell_type": "code",
      "execution_count": 29,
      "metadata": {
        "id": "Z134alaqid6L"
      },
      "outputs": [],
      "source": [
        "def eval_transformer(input_tensor, target_tensor, transformer, criterion, max_length=MAX_LENGTH):\n",
        "    transformer.eval()\n",
        "    with torch.no_grad():\n",
        "      input_length = input_tensor.size(0)\n",
        "      target_length = target_tensor.size(0)\n",
        "      loss = 0\n",
        "      sos_token = torch.tensor([[SOS_token]], device=device)\n",
        "      target_tensor = torch.cat((sos_token, target_tensor[:-1]), dim=0) \n",
        "      src_mask, tgt_mask = create_mask(input_tensor, target_tensor)\n",
        "      output = transformer(input_tensor, target_tensor, src_mask, tgt_mask)\n",
        "      output = F.log_softmax(output,dim=-1)\n",
        "\n",
        "      target_with_eos = torch.cat((target_tensor, torch.tensor([EOS_token], device=device).unsqueeze(0)))\n",
        "      loss = criterion(output.view(-1, output.size(-1)), target_with_eos[1:].view(-1))\n",
        "\n",
        "    return loss.item() / target_length\n",
        "\n",
        "def eval_dataset_transformer(dataset, transformer, criterion, max_length = MAX_LENGTH):\n",
        "    loss = 0\n",
        "    for pair in dataset:\n",
        "        pair_tensor = tensorsFromPair(pair)\n",
        "        input_tensor = pair_tensor[0]\n",
        "        target_tensor = pair_tensor[1]\n",
        "        loss += eval_transformer(input_tensor, target_tensor, transformer, criterion, max_length)\n",
        "    return loss / len(dataset)"
      ]
    },
    {
      "cell_type": "code",
      "execution_count": 30,
      "metadata": {
        "colab": {
          "base_uri": "https://localhost:8080/"
        },
        "id": "31f8fO3YK67P",
        "outputId": "2d83d702-ceb9-4c43-a354-0cc78a79c56c"
      },
      "outputs": [
        {
          "output_type": "stream",
          "name": "stdout",
          "text": [
            "\n",
            "Iter \tTrain% \tTime \t\tTrain_loss\n",
            "2000 \t6% \t(1m 5s) \t0.4827\n",
            "4000 \t13% \t(2m 9s) \t0.3217\n",
            "6000 \t20% \t(3m 14s) \t0.2855\n",
            "8000 \t26% \t(4m 18s) \t0.2573\n",
            "10000 \t33% \t(5m 23s) \t0.2492\n",
            "12000 \t40% \t(6m 27s) \t0.2407\n",
            "14000 \t46% \t(7m 31s) \t0.2343\n",
            "16000 \t53% \t(8m 35s) \t0.2283\n",
            "18000 \t60% \t(9m 39s) \t0.2187\n",
            "20000 \t66% \t(10m 43s) \t0.2138\n",
            "22000 \t73% \t(11m 48s) \t0.2035\n",
            "24000 \t80% \t(12m 52s) \t0.1975\n",
            "26000 \t86% \t(13m 56s) \t0.1886\n",
            "28000 \t93% \t(15m 0s) \t0.1791\n",
            "30000 \t100% \t(16m 5s) \t0.1727\n",
            "Average test loss: 0.23271351814270014\n"
          ]
        }
      ],
      "source": [
        "hidden_size = 32\n",
        "NHEAD = 8\n",
        "FFN_HID_DIM = 512\n",
        "NUM_ENCODER_LAYERS = 3\n",
        "NUM_DECODER_LAYERS = 3\n",
        "MAX_LENGTH = 5\n",
        "transformer = Seq2SeqTransformer(NUM_ENCODER_LAYERS, NUM_DECODER_LAYERS, hidden_size,\n",
        "                                 NHEAD, input_lang.n_words, output_lang.n_words, FFN_HID_DIM).to(device)\n",
        "for p in transformer.parameters():\n",
        "  if p.dim() > 1:\n",
        "    nn.init.xavier_uniform_(p)\n",
        "transformer = transformer.to(device)\n",
        "train_losses_trans, val_losses_trans = trainIters_transformer(transformer, 30000, max_length = MAX_LENGTH)\n",
        "\n",
        "transformer = torch.load('seq2seq_translation_transformer_model.pt')\n",
        "average_test_loss = eval_dataset_transformer(test_data, transformer, nn.NLLLoss(), max_length = MAX_LENGTH)\n",
        "print('Average test loss: ' + str(average_test_loss))\n"
      ]
    },
    {
      "cell_type": "code",
      "source": [
        "print('For sequences of max length 5:')\n",
        "showPlot(train_losses, val_losses, train_losses_att, val_losses_att, train_losses_trans, val_losses_trans)"
      ],
      "metadata": {
        "colab": {
          "base_uri": "https://localhost:8080/",
          "height": 626
        },
        "id": "7lSTp5aTrC4b",
        "outputId": "c45bf260-adc0-457a-aa67-7a85b7ff9c7c"
      },
      "execution_count": 31,
      "outputs": [
        {
          "output_type": "stream",
          "name": "stdout",
          "text": [
            "For sequences of max length 5:\n"
          ]
        },
        {
          "output_type": "display_data",
          "data": {
            "text/plain": [
              "<Figure size 432x288 with 0 Axes>"
            ]
          },
          "metadata": {}
        },
        {
          "output_type": "display_data",
          "data": {
            "text/plain": [
              "<Figure size 432x288 with 1 Axes>"
            ],
            "image/png": "[encoded data removed]"
          },
          "metadata": {
            "needs_background": "light"
          }
        },
        {
          "output_type": "display_data",
          "data": {
            "text/plain": [
              "<Figure size 432x288 with 0 Axes>"
            ]
          },
          "metadata": {}
        },
        {
          "output_type": "display_data",
          "data": {
            "text/plain": [
              "<Figure size 432x288 with 1 Axes>"
            ],
            "image/png": "[encoded data removed]"
          },
          "metadata": {
            "needs_background": "light"
          }
        }
      ]
    },
    {
      "cell_type": "code",
      "execution_count": 32,
      "metadata": {
        "id": "U9zKA7_y_2Cw"
      },
      "outputs": [],
      "source": [
        "def evaluate_transformer(transformer, sentence, max_length=MAX_LENGTH):\n",
        "    with torch.no_grad():\n",
        "        input_tensor = tensorFromSentence(input_lang, sentence)\n",
        "        input_length = input_tensor.size()[0]\n",
        "        src_mask = torch.zeros((input_length, input_length),device=device).type(torch.bool)\n",
        "        encoder_outputs = transformer.encode(input_tensor, src_mask)\n",
        "        decoder_input = torch.tensor([[SOS_token]], device=device)  # SOS\n",
        "        decoded_words = []\n",
        "        for i in range(max_length):\n",
        "          tgt_mask = (generate_square_subsequent_mask(decoder_input.size(0)).type(torch.bool)).to(device)\n",
        "          output = transformer.decode(decoder_input, encoder_outputs, tgt_mask)\n",
        "          output = transformer.generator(output.transpose(0,1)[:, -1])\n",
        "          _, next_word = torch.max(output, dim=1)\n",
        "          next_word = next_word.item()\n",
        "          if next_word == EOS_token:\n",
        "            decoded_words.append('<EOS>')\n",
        "            break\n",
        "          else:\n",
        "            decoded_words.append(output_lang.index2word[next_word])\n",
        "            decoder_input = torch.cat([decoder_input,torch.ones(1, 1).type_as(input_tensor.data).fill_(next_word)], dim=0)\n",
        "        return decoded_words"
      ]
    },
    {
      "cell_type": "code",
      "execution_count": 33,
      "metadata": {
        "id": "M2ghmVYh0o8B"
      },
      "outputs": [],
      "source": [
        "def evaluateRandomly_transformer(transformer, n=10):\n",
        "    for i in range(n):\n",
        "        pair = random.choice(pairs)\n",
        "        print('>', pair[0])\n",
        "        print('=', pair[1])\n",
        "        output_words = evaluate_transformer(transformer, pair[0], MAX_LENGTH)\n",
        "        output_sentence = ' '.join(output_words)\n",
        "        print('<', output_sentence)\n",
        "        print('')"
      ]
    },
    {
      "cell_type": "code",
      "execution_count": 34,
      "metadata": {
        "colab": {
          "base_uri": "https://localhost:8080/"
        },
        "id": "qJCyVnFG-voD",
        "outputId": "ad2f0ec3-daa7-4bcd-9bf7-2b8761d84a9f"
      },
      "outputs": [
        {
          "output_type": "stream",
          "name": "stdout",
          "text": [
            "> on se gele .\n",
            "= we re freezing .\n",
            "< we re shaken . <EOS>\n",
            "\n",
            "> elle est obstinee .\n",
            "= she is stubborn .\n",
            "< she is strong . <EOS>\n",
            "\n",
            "> vous etes puissante .\n",
            "= you re powerful .\n",
            "< you re good . <EOS>\n",
            "\n",
            "> tu es endurante .\n",
            "= you re resilient .\n",
            "< you re good . <EOS>\n",
            "\n",
            "> je suis humain .\n",
            "= i am human .\n",
            "< i m lucky . <EOS>\n",
            "\n",
            "> tu es bavard .\n",
            "= you re talkative .\n",
            "< you re talkative . <EOS>\n",
            "\n",
            "> nous sommes devoues .\n",
            "= we re dedicated .\n",
            "< we re ruthless . <EOS>\n",
            "\n",
            "> vous etes productif .\n",
            "= you re productive .\n",
            "< you re productive . <EOS>\n",
            "\n",
            "> vous etes invitee .\n",
            "= you re invited .\n",
            "< you re funny . <EOS>\n",
            "\n",
            "> je suis puissante .\n",
            "= i m powerful .\n",
            "< i m resilient . <EOS>\n",
            "\n"
          ]
        }
      ],
      "source": [
        "evaluateRandomly_transformer(transformer)"
      ]
    },
    {
      "cell_type": "markdown",
      "source": [
        "### Training a seq2seq RNN with Attention (Max Length 10)"
      ],
      "metadata": {
        "id": "ivGtGoz7gr1N"
      }
    },
    {
      "cell_type": "code",
      "source": [
        "MAX_LENGTH = 10\n",
        "input_lang, output_lang, pairs = prepareData('eng', 'fra', True, MAX_LENGTH)\n",
        "random.shuffle(pairs)\n",
        "train_data = pairs[0:int(math.floor(0.8*len(pairs)))]\n",
        "validation_data = pairs[int(math.floor(0.8*len(pairs)))+1:int(math.floor(0.9*len(pairs)))]\n",
        "test_data = pairs[int(math.floor(0.9*len(pairs)))+1:]\n",
        "\n",
        "print(random.choice(pairs))"
      ],
      "metadata": {
        "id": "UlWPsJ46g6rv",
        "colab": {
          "base_uri": "https://localhost:8080/"
        },
        "outputId": "79036144-30fe-40f8-f24a-6745d05293f1"
      },
      "execution_count": 35,
      "outputs": [
        {
          "output_type": "stream",
          "name": "stdout",
          "text": [
            "10\n",
            "Reading lines...\n",
            "Read 135842 sentence pairs\n",
            "Trimmed to 10853 sentence pairs\n",
            "Counting words...\n",
            "Counted words:\n",
            "fra 4489\n",
            "eng 2925\n",
            "['vous etes tres grandes .', 'you re very tall .']\n"
          ]
        }
      ]
    },
    {
      "cell_type": "code",
      "source": [
        "hidden_size = 32\n",
        "MAX_LENGTH = 10\n",
        "encoder = EncoderRNN(input_lang.n_words, hidden_size).to(device)\n",
        "attn_decoder = AttnDecoderRNN(hidden_size, output_lang.n_words, dropout_p=0.1, max_length = MAX_LENGTH).to(device)\n",
        "train_losses_att, val_losses_att = trainIters(encoder, attn_decoder, 30000, max_length = MAX_LENGTH)\n",
        "\n",
        "# evaluate on test set and print average test loss\n",
        "encoder = torch.load('seq2seq_translation_encoder_model.pt')\n",
        "attn_decoder = torch.load('seq2seq_translation_attn_decoder_model.pt')\n",
        "average_test_loss = eval_dataset(test_data, encoder, attn_decoder, nn.NLLLoss(), max_length = MAX_LENGTH)\n",
        "print('Average test loss: ' + str(average_test_loss))"
      ],
      "metadata": {
        "colab": {
          "base_uri": "https://localhost:8080/"
        },
        "id": "sVFX_C7Bh3GK",
        "outputId": "9d6445e2-2419-4ff2-af0e-3c55f1e10cf1"
      },
      "execution_count": 36,
      "outputs": [
        {
          "output_type": "stream",
          "name": "stdout",
          "text": [
            "\n",
            "Iter \tTrain% \tTime \t\tTrain_loss\n",
            "2000 \t6% \t(0m 44s) \t3.2077\n",
            "4000 \t13% \t(1m 37s) \t2.9847\n",
            "6000 \t20% \t(2m 29s) \t2.8141\n",
            "8000 \t26% \t(3m 22s) \t2.6696\n",
            "10000 \t33% \t(4m 15s) \t2.5597\n",
            "12000 \t40% \t(5m 7s) \t2.5109\n",
            "14000 \t46% \t(6m 1s) \t2.4157\n",
            "16000 \t53% \t(6m 54s) \t2.3768\n",
            "18000 \t60% \t(7m 47s) \t2.2985\n",
            "20000 \t66% \t(8m 41s) \t2.2726\n",
            "22000 \t73% \t(9m 34s) \t2.2766\n",
            "24000 \t80% \t(10m 27s) \t2.2043\n",
            "26000 \t86% \t(11m 20s) \t2.1918\n",
            "28000 \t93% \t(12m 13s) \t2.1523\n",
            "30000 \t100% \t(13m 6s) \t2.2028\n",
            "Average test loss: 2.649848942973779\n"
          ]
        }
      ]
    },
    {
      "cell_type": "markdown",
      "source": [
        "### Training a seq2seq RNN without Attention (Max Length 10)"
      ],
      "metadata": {
        "id": "tD4J-C8qg3xD"
      }
    },
    {
      "cell_type": "code",
      "source": [
        "hidden_size = 32\n",
        "encoder = EncoderRNN(input_lang.n_words, hidden_size).to(device)\n",
        "decoder = DecoderRNN(hidden_size, output_lang.n_words).to(device)\n",
        "MAX_LENGTH = 10\n",
        "train_losses, val_losses = trainIters(encoder, decoder, 30000,max_length = MAX_LENGTH)\n",
        "\n",
        "# evaluate on test set and print average test loss\n",
        "encoder = torch.load('seq2seq_translation_encoder_model.pt')\n",
        "decoder = torch.load('seq2seq_translation_decoder_model.pt')\n",
        "average_test_loss = eval_dataset(test_data, encoder, decoder, nn.NLLLoss(), max_length=MAX_LENGTH)\n",
        "print('Average test loss: ' + str(average_test_loss))\n",
        "\n"
      ],
      "metadata": {
        "id": "9XCFfU3rh4Er",
        "colab": {
          "base_uri": "https://localhost:8080/"
        },
        "outputId": "3a5d60d2-7e36-4531-a435-8da088479456"
      },
      "execution_count": 37,
      "outputs": [
        {
          "output_type": "stream",
          "name": "stdout",
          "text": [
            "\n",
            "Iter \tTrain% \tTime \t\tTrain_loss\n",
            "2000 \t6% \t(0m 29s) \t3.2274\n",
            "4000 \t13% \t(1m 3s) \t2.9466\n",
            "6000 \t20% \t(1m 38s) \t2.8617\n",
            "8000 \t26% \t(2m 12s) \t2.7301\n",
            "10000 \t33% \t(2m 47s) \t2.6621\n",
            "12000 \t40% \t(3m 22s) \t2.6015\n",
            "14000 \t46% \t(3m 57s) \t2.5600\n",
            "16000 \t53% \t(4m 32s) \t2.5052\n",
            "18000 \t60% \t(5m 7s) \t2.4544\n",
            "20000 \t66% \t(5m 42s) \t2.4440\n",
            "22000 \t73% \t(6m 17s) \t2.3397\n",
            "24000 \t80% \t(6m 53s) \t2.4049\n",
            "26000 \t86% \t(7m 28s) \t2.3765\n",
            "28000 \t93% \t(8m 4s) \t2.3814\n",
            "30000 \t100% \t(8m 39s) \t2.3786\n",
            "Average test loss: 2.817257958147018\n"
          ]
        }
      ]
    },
    {
      "cell_type": "markdown",
      "source": [
        "### Seq2Seq using Transformer (Max Length 10)"
      ],
      "metadata": {
        "id": "GuETujreFqpP"
      }
    },
    {
      "cell_type": "code",
      "source": [
        "hidden_size = 32\n",
        "NHEAD = 8\n",
        "FFN_HID_DIM = 512\n",
        "NUM_ENCODER_LAYERS = 3\n",
        "NUM_DECODER_LAYERS = 3\n",
        "MAX_LENGTH = 10\n",
        "transformer = Seq2SeqTransformer(NUM_ENCODER_LAYERS, NUM_DECODER_LAYERS, hidden_size,\n",
        "                                 NHEAD, input_lang.n_words, output_lang.n_words, FFN_HID_DIM).to(device)\n",
        "for p in transformer.parameters():\n",
        "  if p.dim() > 1:\n",
        "    nn.init.xavier_uniform_(p)\n",
        "transformer = transformer.to(device)\n",
        "train_losses_trans, val_losses_trans = trainIters_transformer(transformer, 30000, max_length = MAX_LENGTH)\n",
        "\n",
        "transformer = torch.load('seq2seq_translation_transformer_model.pt')\n",
        "average_test_loss = eval_dataset_transformer(test_data, transformer, nn.NLLLoss(), max_length = MAX_LENGTH)\n",
        "print('Average test loss: ' + str(average_test_loss))\n"
      ],
      "metadata": {
        "colab": {
          "base_uri": "https://localhost:8080/"
        },
        "id": "ud5upcKhDNKV",
        "outputId": "f753a18b-12dc-4db2-d5b4-5ff1311b4f7d"
      },
      "execution_count": 38,
      "outputs": [
        {
          "output_type": "stream",
          "name": "stdout",
          "text": [
            "\n",
            "Iter \tTrain% \tTime \t\tTrain_loss\n",
            "2000 \t6% \t(1m 13s) \t0.6404\n",
            "4000 \t13% \t(2m 32s) \t0.4940\n",
            "6000 \t20% \t(3m 52s) \t0.4398\n",
            "8000 \t26% \t(5m 12s) \t0.4204\n",
            "10000 \t33% \t(6m 32s) \t0.3876\n",
            "12000 \t40% \t(7m 51s) \t0.3703\n",
            "14000 \t46% \t(9m 11s) \t0.3687\n",
            "16000 \t53% \t(10m 31s) \t0.3547\n",
            "18000 \t60% \t(11m 51s) \t0.3460\n",
            "20000 \t66% \t(13m 10s) \t0.3383\n",
            "22000 \t73% \t(14m 30s) \t0.3293\n",
            "24000 \t80% \t(15m 49s) \t0.3229\n",
            "26000 \t86% \t(17m 10s) \t0.3221\n",
            "28000 \t93% \t(18m 29s) \t0.3133\n",
            "30000 \t100% \t(19m 48s) \t0.3037\n",
            "Average test loss: 0.3220331507387131\n"
          ]
        }
      ]
    },
    {
      "cell_type": "code",
      "source": [
        "evaluateRandomly_transformer(transformer)"
      ],
      "metadata": {
        "colab": {
          "base_uri": "https://localhost:8080/"
        },
        "id": "yuAXrEJsNHjq",
        "outputId": "db7ab1a6-ef59-4b9e-fde1-58c8fdabe337"
      },
      "execution_count": 39,
      "outputs": [
        {
          "output_type": "stream",
          "name": "stdout",
          "text": [
            "> vous etes avide .\n",
            "= you re greedy .\n",
            "< you re very timid . <EOS>\n",
            "\n",
            "> elles sont en train d arriver .\n",
            "= they re coming .\n",
            "< they re all ! <EOS>\n",
            "\n",
            "> tu es le chef .\n",
            "= you re the leader .\n",
            "< you re the teacher . <EOS>\n",
            "\n",
            "> tu es tranquille .\n",
            "= you re quiet .\n",
            "< you re arrogant . <EOS>\n",
            "\n",
            "> vous etes liberes de toute responsabilite .\n",
            "= you re free of all responsibility .\n",
            "< you re all going to be . <EOS>\n",
            "\n",
            "> il est faineant .\n",
            "= he is lazy .\n",
            "< he is a adult . <EOS>\n",
            "\n",
            "> j ai deja termine .\n",
            "= i m already done .\n",
            "< i m all all . <EOS>\n",
            "\n",
            "> tu te comportes comme un petit enfant .\n",
            "= you re acting like a small child .\n",
            "< you re going to be a teacher . <EOS>\n",
            "\n",
            "> tu es un veritable ami .\n",
            "= you re a true friend .\n",
            "< you re a teacher . <EOS>\n",
            "\n",
            "> nous sommes des nouvelles venues .\n",
            "= we re newcomers .\n",
            "< we re going to help . <EOS>\n",
            "\n"
          ]
        }
      ]
    },
    {
      "cell_type": "code",
      "source": [
        "print('For sequences of max length 10:')\n",
        "showPlot(train_losses, val_losses, train_losses_att, val_losses_att, train_losses_trans, val_losses_trans)"
      ],
      "metadata": {
        "colab": {
          "base_uri": "https://localhost:8080/",
          "height": 626
        },
        "id": "XbbWt1ikF4Sg",
        "outputId": "c810de7d-455b-492b-b42f-6b4456b53ba9"
      },
      "execution_count": 40,
      "outputs": [
        {
          "output_type": "stream",
          "name": "stdout",
          "text": [
            "For sequences of max length 10:\n"
          ]
        },
        {
          "output_type": "display_data",
          "data": {
            "text/plain": [
              "<Figure size 432x288 with 0 Axes>"
            ]
          },
          "metadata": {}
        },
        {
          "output_type": "display_data",
          "data": {
            "text/plain": [
              "<Figure size 432x288 with 1 Axes>"
            ],
            "image/png": "[encoded data removed]"
          },
          "metadata": {
            "needs_background": "light"
          }
        },
        {
          "output_type": "display_data",
          "data": {
            "text/plain": [
              "<Figure size 432x288 with 0 Axes>"
            ]
          },
          "metadata": {}
        },
        {
          "output_type": "display_data",
          "data": {
            "text/plain": [
              "<Figure size 432x288 with 1 Axes>"
            ],
            "image/png": "[encoded data removed]"
          },
          "metadata": {
            "needs_background": "light"
          }
        }
      ]
    },
    {
      "cell_type": "markdown",
      "source": [
        "For comparing the seq2seq RNNs with and without attention, we notice that for maximum length 5, the performance is fairly similar, whereas for length 10, seq2seq RNN with attention performs better than the one without attention.  The attention mechanism allows the decoder to focus on different parts of the input sequence at each time step, effectively allowing the decoder to attend to the parts of the input sequence that are most relevant to generating the output sequence. It can improve the performance of seq2seq models, particularly for longer input sequences.\n",
        "\n",
        "The transformer architecture, which uses self-attention instead of recurrent units, is particularly effective for sequence-to-sequence tasks and outperforms traditional RNN-based seq2seq models with attention by a huge margin. The transformer does not require sequential processing, which can lead to faster training times, and it is also less prone to vanishing gradients and other issues that can occur with deep RNNs.\n",
        "\n",
        "\n",
        "When testing the models on sentences of MAX_LENGTH=5, the differences in performance between the models was not as pronounced, as the sequences are relatively short. However, when testing on sentences of MAX_LENGTH=10, the advantages of the attention mechanism and the transformer architecturebecame more apparent."
      ],
      "metadata": {
        "id": "cgBmLlbqTMl7"
      }
    },
    {
      "cell_type": "code",
      "source": [],
      "metadata": {
        "id": "DNyDwhbnY8Te"
      },
      "execution_count": 40,
      "outputs": []
    }
  ],
  "metadata": {
    "accelerator": "GPU",
    "colab": {
      "provenance": [],
      "collapsed_sections": [
        "OzGQOsVwhDNL"
      ]
    },
    "gpuClass": "standard",
    "kernelspec": {
      "display_name": "Python 3",
      "name": "python3"
    },
    "language_info": {
      "codemirror_mode": {
        "name": "ipython",
        "version": 3
      },
      "file_extension": ".py",
      "mimetype": "text/x-python",
      "name": "python",
      "nbconvert_exporter": "python",
      "pygments_lexer": "ipython3",
      "version": "3.6.6"
    }
  },
  "nbformat": 4,
  "nbformat_minor": 0
}